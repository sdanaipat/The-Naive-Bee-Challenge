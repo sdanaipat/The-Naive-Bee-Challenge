{
 "cells": [
  {
   "cell_type": "code",
   "execution_count": 1,
   "metadata": {
    "collapsed": false
   },
   "outputs": [
    {
     "name": "stdout",
     "output_type": "stream",
     "text": [
      "Populating the interactive namespace from numpy and matplotlib\n"
     ]
    }
   ],
   "source": [
    "%pylab inline"
   ]
  },
  {
   "cell_type": "markdown",
   "metadata": {},
   "source": [
    "#Solution to The Metis Challenge: Naive Bees Classifier"
   ]
  },
  {
   "cell_type": "markdown",
   "metadata": {},
   "source": [
    "by Danaipat Sodkomkham (@sdanaipat)"
   ]
  },
  {
   "cell_type": "markdown",
   "metadata": {},
   "source": [
    "#Overview"
   ]
  },
  {
   "cell_type": "markdown",
   "metadata": {},
   "source": [
    "In this competition, we have tried a couple of pretrained models from [BVLC](https://github.com/BVLC/caffe/wiki/Model-Zoo). The best performing approach was to fine-tune a [pretrained VGG16](https://gist.github.com/ksimonyan/211839e770f7b538e2d8#file-readme-md) network with augmented data and a modified crossentropy loss function (intended to fix the class imbalance problem)."
   ]
  },
  {
   "cell_type": "markdown",
   "metadata": {},
   "source": [
    "#Step 1: Load Bee Images"
   ]
  },
  {
   "cell_type": "markdown",
   "metadata": {},
   "source": [
    "VGG16 originally accepts 224 by 224 images, therefore we need to resize our data."
   ]
  },
  {
   "cell_type": "code",
   "execution_count": 2,
   "metadata": {
    "collapsed": true
   },
   "outputs": [],
   "source": [
    "import os\n",
    "from skimage import io, transform\n",
    "import pandas as pd\n",
    "\n",
    "\n",
    "def load_bee_images(images_path, filenames):\n",
    "    \"\"\"\n",
    "        Load bee images\n",
    "        Args:\n",
    "            images_path: string, path to images dir\n",
    "            filenames: list of image names. images will be read in this order.\n",
    "        Returns:\n",
    "            X: 4D tensor of shape (N, W, H, color_dim)\n",
    "    \"\"\"\n",
    "    X = np.zeros((len(filenames), 224, 224, 3), np.float32)\n",
    "    for j, f in enumerate(filenames):\n",
    "        i = int(f[:-4])\n",
    "        img = io.imread(os.path.join(images_path, f))\n",
    "        img = transform.resize(img, (224, 224))[:, :, :3]\n",
    "        X[j] = img\n",
    "    X *= 255.\n",
    "    \n",
    "    return X"
   ]
  },
  {
   "cell_type": "markdown",
   "metadata": {},
   "source": [
    "Next, prepare data for pretrained VGG16 model as follows:"
   ]
  },
  {
   "cell_type": "code",
   "execution_count": 3,
   "metadata": {
    "collapsed": true
   },
   "outputs": [],
   "source": [
    "MEAN = np.array([103.939, 116.779, 123.68], dtype=np.float32)[None, :, None, None]\n",
    "\n",
    "def prep_images(img):\n",
    "    \"\"\"\n",
    "        Swap axes: RGB -> BGR and reduce_subtract by mean pixel values\n",
    "\n",
    "        Args:\n",
    "            img: 4D tensor of shape (N, W, H, color_dim)\n",
    "        Returns:\n",
    "            Axes swapped, normalized images \n",
    "    \"\"\"\n",
    "    img = np.swapaxes(np.swapaxes(img, 2, 3), 1, 2)\n",
    "    img = img[:, ::-1, :, :]\n",
    "    img -= MEAN\n",
    "    return img.astype(np.float32)"
   ]
  },
  {
   "cell_type": "markdown",
   "metadata": {},
   "source": [
    "Load images and labels for model training"
   ]
  },
  {
   "cell_type": "code",
   "execution_count": 4,
   "metadata": {
    "collapsed": false
   },
   "outputs": [],
   "source": [
    "labels = pd.read_csv(\"b37d3960-6909-472b-9ce1-c33b07dbdb66.csv\")\n",
    "ids = labels.id.tolist()\n",
    "labels = labels.genus.tolist()\n",
    "\n",
    "filenames = [\"%s.jpg\" % id for id in ids]\n",
    "\n",
    "X = load_bee_images(\"data/train\", filenames)\n",
    "X = prep_images(X)"
   ]
  },
  {
   "cell_type": "code",
   "execution_count": 5,
   "metadata": {
    "collapsed": false
   },
   "outputs": [],
   "source": [
    "id2label = dict([(id, label) for id, label in zip(ids, labels)])\n",
    "\n",
    "y = np.zeros(len(filenames), dtype=np.int32)\n",
    "for i, fname in enumerate(filenames):\n",
    "    y[i] = id2label[int(fname[:-4])]"
   ]
  },
  {
   "cell_type": "markdown",
   "metadata": {},
   "source": [
    "###2.1 Data augmentation"
   ]
  },
  {
   "cell_type": "code",
   "execution_count": 6,
   "metadata": {
    "collapsed": false
   },
   "outputs": [
    {
     "name": "stderr",
     "output_type": "stream",
     "text": [
      "Using gpu device 0: GeForce GTX TITAN X (CNMeM is disabled)\n"
     ]
    }
   ],
   "source": [
    "from nolearn.lasagne import BatchIterator\n",
    "from scipy.ndimage.interpolation import rotate\n",
    "\n",
    "\n",
    "class AugBatchIterator(BatchIterator):\n",
    "    \"\"\"\n",
    "        Randomly rotate/flip augment 5/6 of the train batch\n",
    "    \"\"\"\n",
    "    def transform(self, Xb, yb):\n",
    "        \"\"\"\n",
    "            Transform training data\n",
    "            Args:\n",
    "                Xb: 4D tensor of shape (batch_size, W, H, color_dim)\n",
    "                yb: 1D vector of target class labels, shape=(batch_size, )\n",
    "            Returns:\n",
    "                Augmented batch\n",
    "        \"\"\"\n",
    "        \n",
    "        Xb, yb = super(AugBatchIterator, self).transform(Xb, yb)\n",
    "\n",
    "        bs = Xb.shape[0]\n",
    "        \n",
    "        N = 5 * bs / 6\n",
    "        indices = np.random.choice(bs, N, replace=False)\n",
    "\n",
    "        # flip horizontally\n",
    "        sub_idx = indices[:N/5]\n",
    "        Xb[sub_idx] = Xb[sub_idx, :, :, ::-1]\n",
    "        \n",
    "        # flip vertically\n",
    "        sub_idx = indices[N/5:2*N/5]\n",
    "        Xb[sub_idx] = Xb[sub_idx, :, ::-1, :]\n",
    "        \n",
    "        # rotate 90\n",
    "        sub_idx = indices[2*N/5:3*N/5]\n",
    "        Xb[sub_idx] = rotate(Xb[sub_idx], 90, (2, 3))\n",
    "        \n",
    "        # rotate 180\n",
    "        sub_idx = indices[3*N/5:4*N/5]\n",
    "        Xb[sub_idx] = rotate(Xb[sub_idx], 180, (2, 3))\n",
    "        \n",
    "        # rotate 270\n",
    "        sub_idx = indices[4*N/5:]\n",
    "        Xb[sub_idx] = rotate(Xb[sub_idx], 270, (2, 3))\n",
    "\n",
    "        \n",
    "        return Xb, yb"
   ]
  },
  {
   "cell_type": "markdown",
   "metadata": {},
   "source": [
    "###2.2 Modify cross-entropy loss function to balance the importance of the loss from both major and minor classes"
   ]
  },
  {
   "cell_type": "markdown",
   "metadata": {},
   "source": [
    "Normalize the cross-entropy loss by its class prior as follow:\n",
    "\n",
    "$$\n",
    "\\text{modified cross entropy} = \\frac{1}{2N}\\sum_i \\frac{-target_i \\log(prediction_i) - (1 - target_i) \\log(1 - prediction_i)}{p(target_i)},\n",
    "$$ \n",
    "where $N$ is batch_size, $target_i$ and $prediction_i$ are actual class label and predicted class of the $i$th sample respectively."
   ]
  },
  {
   "cell_type": "code",
   "execution_count": 7,
   "metadata": {
    "collapsed": true
   },
   "outputs": [],
   "source": [
    "import theano.tensor as T\n",
    "\n",
    "p1 = 1. * y.sum() / len(y)\n",
    "p0 = 1. - p1\n",
    "\n",
    "\n",
    "def modified_crossentropy(predictions, targets):\n",
    "    \"\"\"\n",
    "        Normalize cross-entropy loss by target class priors\n",
    "        Args:\n",
    "            predictions: 1D int vector of shape (batch_size, )\n",
    "            targets: 1D int vector of shape(batch_size, )\n",
    "        Returns:\n",
    "            Normalized cross-entropy loss\n",
    "    \"\"\"\n",
    "    pred = T.clip(predictions[:, 1], 0.0001, 0.9999)\n",
    "    loss = -targets * T.log(pred) - (1 - targets) * T.log(1 - pred)\n",
    "    p = targets * (p1 - p0) + p0\n",
    "    return 0.5 * T.mean(loss / p)"
   ]
  },
  {
   "cell_type": "markdown",
   "metadata": {},
   "source": [
    "### 2.3 Init Lasagne VGG16 net"
   ]
  },
  {
   "cell_type": "code",
   "execution_count": 8,
   "metadata": {
    "collapsed": false
   },
   "outputs": [],
   "source": [
    "import theano\n",
    "from nolearn.lasagne import NeuralNet, BatchIterator, TrainSplit\n",
    "from lasagne.updates import nesterov_momentum, adagrad, adam\n",
    "import lasagne\n",
    "from lasagne.layers import InputLayer, DropoutLayer\n",
    "from lasagne.layers.dnn import Conv2DDNNLayer as ConvLayer\n",
    "from lasagne.layers import Pool2DLayer as PoolLayer\n",
    "from sklearn.metrics import f1_score\n",
    "\n",
    "\n",
    "def f1(y_true, y_score):\n",
    "    \"\"\" \n",
    "        Compute F1 score\n",
    "        Args:\n",
    "            y_true: 1D int vector of target labels\n",
    "            y_pred: 1D float vector of predicted class probabilities\n",
    "        Returns:\n",
    "            F1 score\n",
    "    \"\"\"\n",
    "    y_pred = np.zeros(len(y_true), dtype=np.int32)\n",
    "    y_pred[y_score[:, 1] >= 0.5] = 1\n",
    "    return f1_score(y_true, y_pred)\n",
    "\n",
    "\n",
    "\n",
    "net = NeuralNet(layers=[('input', InputLayer),\n",
    "                        \n",
    "                        ('conv1_1', ConvLayer),\n",
    "                        ('conv1_2', ConvLayer),\n",
    "                        ('pool1', PoolLayer),\n",
    "                        \n",
    "                        ('conv2_1', ConvLayer),\n",
    "                        ('conv2_2', ConvLayer),\n",
    "                        ('pool2', PoolLayer),\n",
    "                        \n",
    "                        ('conv3_1', ConvLayer),\n",
    "                        ('conv3_2', ConvLayer),\n",
    "                        ('conv3_3', ConvLayer),\n",
    "                        ('pool3', PoolLayer),\n",
    "                        \n",
    "                        ('conv4_1', ConvLayer),\n",
    "                        ('conv4_2', ConvLayer),\n",
    "                        ('conv4_3', ConvLayer),\n",
    "                        ('pool4', PoolLayer),\n",
    "                        \n",
    "                        ('conv5_1', ConvLayer),\n",
    "                        ('conv5_2', ConvLayer),\n",
    "                        ('conv5_3', ConvLayer),\n",
    "                        ('pool5', PoolLayer),\n",
    "                        \n",
    "                        ('fc6', lasagne.layers.DenseLayer),\n",
    "                        ('drop6', DropoutLayer),\n",
    "                        \n",
    "                        ('fc7', lasagne.layers.DenseLayer),\n",
    "                        ('drop7', DropoutLayer),\n",
    "                        \n",
    "                        ('output', lasagne.layers.DenseLayer)],\n",
    "                \n",
    "                input_shape=(None, 3, 224, 224),\n",
    "                \n",
    "                conv1_1_num_filters=64, conv1_1_filter_size=3, conv1_1_pad=1, \n",
    "                conv1_2_num_filters=64, conv1_2_filter_size=3, conv1_2_pad=1, \n",
    "                pool1_pool_size=2, pool1_stride=2, pool1_mode='max', pool1_pad=0, pool1_ignore_border=True,\n",
    "                \n",
    "                conv2_1_num_filters=128, conv2_1_filter_size=3, conv2_1_pad=1, \n",
    "                conv2_2_num_filters=128, conv2_2_filter_size=3, conv2_2_pad=1, \n",
    "                pool2_pool_size=2, pool2_stride=2, pool2_mode='max', pool2_pad=0, pool2_ignore_border=True,\n",
    "                \n",
    "                conv3_1_num_filters=256, conv3_1_filter_size=3, conv3_1_pad=1, \n",
    "                conv3_2_num_filters=256, conv3_2_filter_size=3, conv3_2_pad=1, \n",
    "                conv3_3_num_filters=256, conv3_3_filter_size=3, conv3_3_pad=1, \n",
    "                pool3_pool_size=2, pool3_stride=2, pool3_mode='max', pool3_pad=0, pool3_ignore_border=True,\n",
    "                \n",
    "                conv4_1_num_filters=512, conv4_1_filter_size=3, conv4_1_pad=1, \n",
    "                conv4_2_num_filters=512, conv4_2_filter_size=3, conv4_2_pad=1, \n",
    "                conv4_3_num_filters=512, conv4_3_filter_size=3, conv4_3_pad=1, \n",
    "                pool4_pool_size=2, pool4_stride=2, pool4_mode='max', pool4_pad=0, pool4_ignore_border=True,\n",
    "                \n",
    "                conv5_1_num_filters=512, conv5_1_filter_size=3, conv5_1_pad=1, \n",
    "                conv5_2_num_filters=512, conv5_2_filter_size=3, conv5_2_pad=1, \n",
    "                conv5_3_num_filters=512, conv5_3_filter_size=3, conv5_3_pad=1, \n",
    "                pool5_pool_size=2, pool5_stride=2, pool5_mode='max', pool5_pad=0, pool5_ignore_border=True,\n",
    "                \n",
    "                fc6_num_units=4096, fc6_nonlinearity=lasagne.nonlinearities.rectify,\n",
    "                drop6_p=0.5,\n",
    "                \n",
    "                fc7_num_units=4096, fc7_nonlinearity=lasagne.nonlinearities.rectify,\n",
    "                drop7_p=0.5,\n",
    "\n",
    "                output_num_units=2, output_nonlinearity=lasagne.nonlinearities.softmax,\n",
    "                \n",
    "                batch_iterator_train=AugBatchIterator(batch_size=32),\n",
    "                batch_iterator_test=BatchIterator(batch_size=64),\n",
    "                \n",
    "                update=nesterov_momentum,\n",
    "                update_momentum=theano.shared(float32(0.9)),\n",
    "                update_learning_rate=theano.shared(float32(0.0001)),\n",
    "                                                                                                                                                                                                                                       \n",
    "                verbose=1,\n",
    "                max_epochs=190,\n",
    "\n",
    "                custom_score=('f1 score', f1),\n",
    "                objective_loss_function=modified_crossentropy,\n",
    "               )"
   ]
  },
  {
   "cell_type": "markdown",
   "metadata": {},
   "source": [
    "### 2.4 Load Pretrained Params from Caffe model to Lasagne Model"
   ]
  },
  {
   "cell_type": "markdown",
   "metadata": {},
   "source": [
    "#### 2.4.1Download BVLC Pretrained VGG16 model"
   ]
  },
  {
   "cell_type": "code",
   "execution_count": null,
   "metadata": {
    "collapsed": true
   },
   "outputs": [],
   "source": [
    "!wget https://gist.github.com/ksimonyan/211839e770f7b538e2d8/raw/c3ba00e272d9f48594acef1f67e5fd12aff7a806/VGG_ILSVRC_16_layers_deploy.prototxt"
   ]
  },
  {
   "cell_type": "code",
   "execution_count": null,
   "metadata": {
    "collapsed": true
   },
   "outputs": [],
   "source": [
    "!wget http://www.robots.ox.ac.uk/~vgg/software/very_deep/caffe/VGG_ILSVRC_16_layers.caffemodel"
   ]
  },
  {
   "cell_type": "markdown",
   "metadata": {},
   "source": [
    "#### 2.4.2 Import Caffe and load pretrained Caffe VGG16 parameters to Lasagne VGG16 "
   ]
  },
  {
   "cell_type": "code",
   "execution_count": 9,
   "metadata": {
    "collapsed": true
   },
   "outputs": [],
   "source": [
    "import caffe\n",
    "\n",
    "caffe_net = caffe.Net('VGG_ILSVRC_16_layers_deploy.prototxt', 'VGG_ILSVRC_16_layers.caffemodel', caffe.TEST)"
   ]
  },
  {
   "cell_type": "code",
   "execution_count": 10,
   "metadata": {
    "collapsed": true
   },
   "outputs": [],
   "source": [
    "def load_pretrained_model(lasagne_net, caffe_net):\n",
    "    \"\"\"\n",
    "        Load pretrained parameters from a Caffe model (caffe_net) to a Lasagne model (net)\n",
    "        \n",
    "        Args:\n",
    "            lasagne_net: Lasagne model (Lasagne NeuralNet object)\n",
    "            caffe_net: Caffe model\n",
    "        Returns:\n",
    "            None\n",
    "    \"\"\"\n",
    "    layers_caffe = dict(zip(list(caffe_net._layer_names), caffe_net.layers))\n",
    "    lasagne_net.initialize()\n",
    "    for layer in lasagne_net.get_all_layers():\n",
    "        if layer.name == \"output\":\n",
    "            continue\n",
    "        try:\n",
    "            pretrained_W = layers_caffe[layer.name].blobs[0].data\n",
    "            pretrained_b = layers_caffe[layer.name].blobs[1].data\n",
    "            if layers_caffe[layer.name].type == \"InnerProduct\":\n",
    "                assert np.all(layer.W.get_value().shape == pretrained_W.T.shape)\n",
    "                layer.W.set_value(pretrained_W.T)\n",
    "            else:\n",
    "                assert np.all(layer.W.get_value().shape == pretrained_W.shape)\n",
    "                layer.W.set_value(pretrained_W)\n",
    "            layer.b.set_value(pretrained_b)\n",
    "            print \"load pretrained params to\", layer.name, layers_caffe[layer.name].type\n",
    "        except (AttributeError, IndexError):\n",
    "            continue\n",
    "        except KeyError:\n",
    "            print \"not loading\", layer.name\n",
    "            continue"
   ]
  },
  {
   "cell_type": "code",
   "execution_count": 11,
   "metadata": {
    "collapsed": false
   },
   "outputs": [
    {
     "name": "stdout",
     "output_type": "stream",
     "text": [
      "not loading input\n",
      "load pretrained params to conv1_1 Convolution\n",
      "load pretrained params to conv1_2 Convolution\n",
      "load pretrained params to conv2_1 Convolution\n",
      "load pretrained params to conv2_2 Convolution\n",
      "load pretrained params to conv3_1 Convolution\n",
      "load pretrained params to conv3_2 Convolution\n",
      "load pretrained params to conv3_3 Convolution\n",
      "load pretrained params to conv4_1 Convolution\n",
      "load pretrained params to conv4_2 Convolution\n",
      "load pretrained params to conv4_3 Convolution\n",
      "load pretrained params to conv5_1 Convolution\n",
      "load pretrained params to conv5_2 Convolution\n",
      "load pretrained params to conv5_3 Convolution\n",
      "load pretrained params to fc6 InnerProduct\n",
      "load pretrained params to fc7 InnerProduct\n"
     ]
    }
   ],
   "source": [
    "load_pretrained_model(net, caffe_net)"
   ]
  },
  {
   "cell_type": "markdown",
   "metadata": {},
   "source": [
    "### 2.5 Train the model"
   ]
  },
  {
   "cell_type": "code",
   "execution_count": null,
   "metadata": {
    "collapsed": false,
    "scrolled": false
   },
   "outputs": [],
   "source": [
    "net = net.fit(X, y)"
   ]
  },
  {
   "cell_type": "markdown",
   "metadata": {},
   "source": [
    "### 2.6 Visualize Training Progress"
   ]
  },
  {
   "cell_type": "code",
   "execution_count": 25,
   "metadata": {
    "collapsed": false
   },
   "outputs": [
    {
     "data": {
      "text/plain": [
       "<matplotlib.text.Text at 0x7f886df98250>"
      ]
     },
     "execution_count": 25,
     "metadata": {},
     "output_type": "execute_result"
    },
    {
     "data": {
      "image/png": "[encoded data removed]",
      "text/plain": [
       "<matplotlib.figure.Figure at 0x7f885dc219d0>"
      ]
     },
     "metadata": {},
     "output_type": "display_data"
    }
   ],
   "source": [
    "train_loss = [h['train_loss'] for h in net.train_history_]\n",
    "valid_loss = [h['valid_loss'] for h in net.train_history_]\n",
    "acc = [h['valid_accuracy'] for h in net.train_history_]\n",
    "\n",
    "net.train_history_\n",
    "\n",
    "plt.gcf().set_size_inches(10, 5)\n",
    "plt.subplot(121)\n",
    "plt.plot(train_loss[1:], label=\"train\")\n",
    "plt.plot(valid_loss[1:], label=\"valid\")\n",
    "# plt.gca().set_yscale('log')\n",
    "plt.legend()\n",
    "plt.xlabel(\"epoch\")\n",
    "plt.ylabel(\"loss\")\n",
    "\n",
    "\n",
    "plt.subplot(122)\n",
    "plt.plot(acc)\n",
    "plt.xlabel(\"epoch\")\n",
    "plt.ylabel(\"accuracy\")"
   ]
  },
  {
   "cell_type": "markdown",
   "metadata": {},
   "source": [
    "The training usually took 10-12 hours. To skip this, execute the following command to load the trained model that we used ."
   ]
  },
  {
   "cell_type": "code",
   "execution_count": 13,
   "metadata": {
    "collapsed": false
   },
   "outputs": [
    {
     "name": "stdout",
     "output_type": "stream",
     "text": [
      "Loaded parameters to layer 'conv1_1' (shape 64x3x3x3).\n",
      "Loaded parameters to layer 'conv1_1' (shape 64).\n",
      "Loaded parameters to layer 'conv1_2' (shape 64x64x3x3).\n",
      "Loaded parameters to layer 'conv1_2' (shape 64).\n",
      "Loaded parameters to layer 'conv2_1' (shape 128x64x3x3).\n",
      "Loaded parameters to layer 'conv2_1' (shape 128).\n",
      "Loaded parameters to layer 'conv2_2' (shape 128x128x3x3).\n",
      "Loaded parameters to layer 'conv2_2' (shape 128).\n",
      "Loaded parameters to layer 'conv3_1' (shape 256x128x3x3).\n",
      "Loaded parameters to layer 'conv3_1' (shape 256).\n",
      "Loaded parameters to layer 'conv3_2' (shape 256x256x3x3).\n",
      "Loaded parameters to layer 'conv3_2' (shape 256).\n",
      "Loaded parameters to layer 'conv3_3' (shape 256x256x3x3).\n",
      "Loaded parameters to layer 'conv3_3' (shape 256).\n",
      "Loaded parameters to layer 'conv4_1' (shape 512x256x3x3).\n",
      "Loaded parameters to layer 'conv4_1' (shape 512).\n",
      "Loaded parameters to layer 'conv4_2' (shape 512x512x3x3).\n",
      "Loaded parameters to layer 'conv4_2' (shape 512).\n",
      "Loaded parameters to layer 'conv4_3' (shape 512x512x3x3).\n",
      "Loaded parameters to layer 'conv4_3' (shape 512).\n",
      "Loaded parameters to layer 'conv5_1' (shape 512x512x3x3).\n",
      "Loaded parameters to layer 'conv5_1' (shape 512).\n",
      "Loaded parameters to layer 'conv5_2' (shape 512x512x3x3).\n",
      "Loaded parameters to layer 'conv5_2' (shape 512).\n",
      "Loaded parameters to layer 'conv5_3' (shape 512x512x3x3).\n",
      "Loaded parameters to layer 'conv5_3' (shape 512).\n",
      "Loaded parameters to layer 'fc6' (shape 25088x4096).\n",
      "Loaded parameters to layer 'fc6' (shape 4096).\n",
      "Loaded parameters to layer 'fc7' (shape 4096x4096).\n",
      "Loaded parameters to layer 'fc7' (shape 4096).\n",
      "Loaded parameters to layer 'output' (shape 4096x2).\n",
      "Loaded parameters to layer 'output' (shape 2).\n"
     ]
    }
   ],
   "source": [
    "net.load_params_from(\"net0.9934.params\")"
   ]
  },
  {
   "cell_type": "markdown",
   "metadata": {},
   "source": [
    "## Step 3: Make submission"
   ]
  },
  {
   "cell_type": "markdown",
   "metadata": {},
   "source": [
    "Load test images"
   ]
  },
  {
   "cell_type": "code",
   "execution_count": 14,
   "metadata": {
    "collapsed": false
   },
   "outputs": [],
   "source": [
    "ids = pd.read_csv(\"SubmissionFormat.csv\").id.tolist()\n",
    "filenames = [\"%s.jpg\" % id for id in ids]\n",
    "\n",
    "X_pred = load_bee_images(\"data/test\", filenames)\n",
    "X_pred = prep_images(X_pred)"
   ]
  },
  {
   "cell_type": "markdown",
   "metadata": {},
   "source": [
    "Make predictions"
   ]
  },
  {
   "cell_type": "code",
   "execution_count": 15,
   "metadata": {
    "collapsed": true
   },
   "outputs": [],
   "source": [
    "pred = net.predict_proba(X_pred)[:, 1]"
   ]
  },
  {
   "cell_type": "markdown",
   "metadata": {},
   "source": [
    "Write submission file"
   ]
  },
  {
   "cell_type": "code",
   "execution_count": 19,
   "metadata": {
    "collapsed": false,
    "scrolled": false
   },
   "outputs": [],
   "source": [
    "with open(\"submission.csv\", \"w\") as f:\n",
    "    out = \"id,genus\\n\" + \"\\n\".join([\"%s,%f\" % (i, p) for i, p in zip(ids, pred)])\n",
    "    f.write(out)"
   ]
  }
 ],
 "metadata": {
  "kernelspec": {
   "display_name": "Python 2",
   "language": "python",
   "name": "python2"
  },
  "language_info": {
   "codemirror_mode": {
    "name": "ipython",
    "version": 2
   },
   "file_extension": ".py",
   "mimetype": "text/x-python",
   "name": "python",
   "nbconvert_exporter": "python",
   "pygments_lexer": "ipython2",
   "version": "2.7.10"
  }
 },
 "nbformat": 4,
 "nbformat_minor": 0
}
